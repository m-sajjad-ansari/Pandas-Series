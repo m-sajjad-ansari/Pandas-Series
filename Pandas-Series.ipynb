{
 "cells": [
  {
   "cell_type": "code",
   "execution_count": 1,
   "id": "853760b9-a2a1-407c-8dd6-f08cc22d60c7",
   "metadata": {},
   "outputs": [],
   "source": [
    "import numpy as np\n",
    "import pandas as pd"
   ]
  },
  {
   "cell_type": "code",
   "execution_count": 187,
   "id": "5dc0886e-ef1d-46bb-bff2-60ca8472a4f3",
   "metadata": {},
   "outputs": [
    {
     "name": "stdout",
     "output_type": "stream",
     "text": [
      "0       India\n",
      "1    Pakistan\n",
      "2       Nepal\n",
      "3    Srilanka\n",
      "dtype: object\n",
      "0    3\n",
      "1    6\n",
      "2    1\n",
      "3    8\n",
      "dtype: int64\n"
     ]
    }
   ],
   "source": [
    "# Pandas Series Creation\n",
    "country=pd.Series(['India','Pakistan','Nepal','Srilanka'])\n",
    "print(country)\n",
    "runs=pd.Series([3,6,1,8])\n",
    "print(runs)"
   ]
  },
  {
   "cell_type": "code",
   "execution_count": 291,
   "id": "faa80e88-3510-4109-baf5-7e5dea23f2dc",
   "metadata": {},
   "outputs": [
    {
     "name": "stdout",
     "output_type": "stream",
     "text": [
      "Chemistry    80\n",
      "Physics      90\n",
      "Maths        99\n",
      "English      75\n",
      "dtype: int64\n"
     ]
    }
   ],
   "source": [
    "# Series from dictionary\n",
    "marks=pd.Series({\n",
    "    'Chemistry':80,\n",
    "    'Physics':90,\n",
    "    'Maths':99,\n",
    "    'English':75\n",
    "})\n",
    "print(marks)"
   ]
  },
  {
   "cell_type": "code",
   "execution_count": 191,
   "id": "5412741c-ce03-48b5-8d9f-73d685885832",
   "metadata": {},
   "outputs": [
    {
     "name": "stdout",
     "output_type": "stream",
     "text": [
      "Chemistry    80\n",
      "Physics      90\n",
      "Maths        99\n",
      "English      75\n",
      "Name: Sajjad's marks, dtype: int64\n"
     ]
    }
   ],
   "source": [
    "# Custom Index\n",
    "student=pd.Series([80,90,99,75],index=['Chemistry','Physics','Maths','English'],name=\"Sajjad's marks\")\n",
    "print(student)\n",
    "new=pd.Series([\"Sajjad\",13,\"FAST\",\"Data Scientist\"],index=[\"Name\",20,\"University\",\"Profession\"])"
   ]
  },
  {
   "cell_type": "code",
   "execution_count": 194,
   "id": "13585f02-f193-4d3c-8a49-77b785af1e4c",
   "metadata": {},
   "outputs": [
    {
     "name": "stdout",
     "output_type": "stream",
     "text": [
      "a :     [1, 2, 3]\n",
      "b :             5\n",
      "c :             7\n",
      "Name: Sajjad, dtype: object\n"
     ]
    }
   ],
   "source": [
    "# Passing list as value \n",
    "a=pd.Series([[1,2,3],5,7],index=['a : ','b : ','c : '],name=\"Sajjad\")\n",
    "print(a)\n",
    "new=pd.Series([1,[2,3,4]])"
   ]
  },
  {
   "cell_type": "markdown",
   "id": "d5226a09-5fc1-4ea5-8313-9629ae281ec3",
   "metadata": {},
   "source": [
    "# Series Attributes"
   ]
  },
  {
   "cell_type": "code",
   "execution_count": 47,
   "id": "b7169e2e-30c1-4df0-939b-81811b871c23",
   "metadata": {},
   "outputs": [
    {
     "name": "stdout",
     "output_type": "stream",
     "text": [
      "3\n"
     ]
    }
   ],
   "source": [
    "# Size\n",
    "print(a.size)"
   ]
  },
  {
   "cell_type": "code",
   "execution_count": 48,
   "id": "e3ebdfa7-64a8-4573-9499-cd8ead4fb107",
   "metadata": {},
   "outputs": [
    {
     "name": "stdout",
     "output_type": "stream",
     "text": [
      "object\n"
     ]
    }
   ],
   "source": [
    "# dtype\n",
    "print(a.dtype)"
   ]
  },
  {
   "cell_type": "code",
   "execution_count": 53,
   "id": "7f0e153b-6bf6-4c65-9331-392a9daf1367",
   "metadata": {},
   "outputs": [
    {
     "name": "stdout",
     "output_type": "stream",
     "text": [
      "Sajjad\n"
     ]
    }
   ],
   "source": [
    "# name\n",
    "print(a.name)"
   ]
  },
  {
   "cell_type": "code",
   "execution_count": 60,
   "id": "2967c695-f91a-4cc5-af58-068a5c600947",
   "metadata": {},
   "outputs": [
    {
     "name": "stdout",
     "output_type": "stream",
     "text": [
      "False\n"
     ]
    }
   ],
   "source": [
    "# is_unique\n",
    "x=pd.Series([1,2,3,2],index=['a','b',1,8])\n",
    "print(x.is_unique)"
   ]
  },
  {
   "cell_type": "code",
   "execution_count": 61,
   "id": "483f00b4-18f7-4708-b64e-d84eff28bdcb",
   "metadata": {},
   "outputs": [
    {
     "name": "stdout",
     "output_type": "stream",
     "text": [
      "Index(['a', 'b', 1, 8], dtype='object')\n"
     ]
    }
   ],
   "source": [
    "# index\n",
    "print(x.index)"
   ]
  },
  {
   "cell_type": "code",
   "execution_count": 223,
   "id": "2ec2051e-cbc5-4b43-a505-3864c02093b3",
   "metadata": {},
   "outputs": [
    {
     "name": "stdout",
     "output_type": "stream",
     "text": [
      "<class 'numpy.ndarray'>\n"
     ]
    }
   ],
   "source": [
    "# Values\n",
    "print(type(x.values))"
   ]
  },
  {
   "cell_type": "markdown",
   "id": "4bdf8317-298f-402a-b398-00e805811d80",
   "metadata": {},
   "source": [
    "# Series using CSV files\n",
    "# read_csv"
   ]
  },
  {
   "cell_type": "code",
   "execution_count": 199,
   "id": "8958dbb2-9ec6-4faf-aee3-171c9e28ea24",
   "metadata": {},
   "outputs": [
    {
     "name": "stdout",
     "output_type": "stream",
     "text": [
      "0       48\n",
      "1       57\n",
      "2       40\n",
      "3       43\n",
      "4       44\n",
      "      ... \n",
      "360    231\n",
      "361    226\n",
      "362    155\n",
      "363    144\n",
      "364    172\n",
      "Name: Subscribers gained, Length: 365, dtype: int64\n",
      "<class 'pandas.core.series.Series'>\n"
     ]
    }
   ],
   "source": [
    "data_set=pd.read_csv(r\"C:/Users/MMT/Pictures/Test/Test/assets/subs.csv\").squeeze()\n",
    "print(data_set)\n",
    "print(type(data_set))"
   ]
  },
  {
   "cell_type": "code",
   "execution_count": 89,
   "id": "fca11d23-b7e7-49c1-86a3-8ffff0d527a6",
   "metadata": {},
   "outputs": [
    {
     "name": "stdout",
     "output_type": "stream",
     "text": [
      "match_no\n",
      "1       1\n",
      "2      23\n",
      "3      13\n",
      "4      12\n",
      "5       1\n",
      "       ..\n",
      "211     0\n",
      "212    20\n",
      "213    73\n",
      "214    25\n",
      "215     7\n",
      "Name: runs, Length: 215, dtype: int64\n"
     ]
    }
   ],
   "source": [
    "# custom index column from the file\n",
    "kohli_runs=pd.read_csv(r\"C:/Users/MMT/Pictures/Test/Test/assets/kohli_ipl.csv\",index_col=\"match_no\",usecols=[\"match_no\",\"runs\"]).squeeze()\n",
    "print(kohli_runs)"
   ]
  },
  {
   "cell_type": "code",
   "execution_count": 96,
   "id": "a8b911a9-5153-4245-a1a7-f487572b7a83",
   "metadata": {},
   "outputs": [
    {
     "name": "stdout",
     "output_type": "stream",
     "text": [
      "match_no\n",
      "1     1\n",
      "2    23\n",
      "3    13\n",
      "4    12\n",
      "5     1\n",
      "Name: runs, dtype: int64\n",
      "23\n"
     ]
    }
   ],
   "source": [
    "# Head :- gives preview top 5 values\n",
    "print(kohli_runs.head())"
   ]
  },
  {
   "cell_type": "code",
   "execution_count": 93,
   "id": "208e6ced-aaf8-49fe-9c3c-a00f4dc4838f",
   "metadata": {},
   "outputs": [
    {
     "name": "stdout",
     "output_type": "stream",
     "text": [
      "match_no\n",
      "211     0\n",
      "212    20\n",
      "213    73\n",
      "214    25\n",
      "215     7\n",
      "Name: runs, dtype: int64\n"
     ]
    }
   ],
   "source": [
    "# Tail\n",
    "print(kohli_runs.tail())"
   ]
  },
  {
   "cell_type": "code",
   "execution_count": 200,
   "id": "aab0fb2e-e8bd-4f5d-abde-afdeec7561bc",
   "metadata": {},
   "outputs": [
    {
     "name": "stdout",
     "output_type": "stream",
     "text": [
      "match_no\n",
      "79     25\n",
      "144    57\n",
      "117    79\n",
      "Name: runs, dtype: int64\n"
     ]
    }
   ],
   "source": [
    "# Sample :- Shows one row randomly\n",
    "# It is mainly used when data is sorted but we want some random rows\n",
    "print(kohli_runs.sample(3))"
   ]
  },
  {
   "cell_type": "code",
   "execution_count": 101,
   "id": "f7235b1e-77c7-4088-92ef-5985c665f81f",
   "metadata": {},
   "outputs": [
    {
     "name": "stdout",
     "output_type": "stream",
     "text": [
      "runs\n",
      "0     9\n",
      "1     8\n",
      "12    8\n",
      "9     7\n",
      "35    6\n",
      "     ..\n",
      "36    1\n",
      "45    1\n",
      "71    1\n",
      "37    1\n",
      "53    1\n",
      "Name: count, Length: 78, dtype: int64\n"
     ]
    }
   ],
   "source": [
    "# Value_counts\n",
    "print(kohli_runs.value_counts())"
   ]
  },
  {
   "cell_type": "code",
   "execution_count": 215,
   "id": "909e0784-c493-407b-9c40-490008aafbd7",
   "metadata": {
    "scrolled": true
   },
   "outputs": [
    {
     "name": "stdout",
     "output_type": "stream",
     "text": [
      "match_no\n",
      "128    113\n",
      "126    109\n",
      "123    108\n",
      "120    100\n",
      "164    100\n",
      "      ... \n",
      "91       0\n",
      "206      0\n",
      "207      0\n",
      "211      0\n",
      "87       0\n",
      "Name: runs, Length: 215, dtype: int64\n"
     ]
    }
   ],
   "source": [
    "# sort_values sort_index\n",
    "print(kohli_runs.sort_values()[::-1])"
   ]
  },
  {
   "cell_type": "markdown",
   "id": "5e43eaca-6f33-4dde-ad6b-1814f2ae368d",
   "metadata": {},
   "source": [
    "# Method Chaining\n",
    "#### It makes our code simpler we can just have one line for multiple tasks\n",
    "# Critical Topic\n",
    "# Useful Logical"
   ]
  },
  {
   "cell_type": "code",
   "execution_count": 115,
   "id": "1f1a8602-861d-45de-8418-8dae1733c15c",
   "metadata": {},
   "outputs": [
    {
     "name": "stdout",
     "output_type": "stream",
     "text": [
      "113\n",
      "113\n"
     ]
    }
   ],
   "source": [
    "print(kohli_runs.sort_values(ascending=False).values[0])\n",
    "print(kohli_runs.sort_values().values[-1])\n",
    "# There are different methods to perform single operation so donot focus on remembering instead try to improve mathematics like algorithms and logics"
   ]
  },
  {
   "cell_type": "code",
   "execution_count": 135,
   "id": "2c47a4b9-1d3b-4b83-b922-44ef6be89dc8",
   "metadata": {},
   "outputs": [
    {
     "name": "stdout",
     "output_type": "stream",
     "text": [
      "match_no\n",
      "175    72\n",
      "152    70\n",
      "172     7\n",
      "24     24\n",
      "105    35\n",
      "Name: runs, dtype: int64\n",
      "match_no\n",
      "172     7\n",
      "24     24\n",
      "105    35\n",
      "152    70\n",
      "175    72\n",
      "Name: runs, dtype: int64\n",
      "match_no\n",
      "24     24\n",
      "105    35\n",
      "152    70\n",
      "172     7\n",
      "175    72\n",
      "Name: runs, dtype: int64\n"
     ]
    }
   ],
   "source": [
    "# Getting random information and then sorting it\n",
    "temp=kohli_runs.sample(5)\n",
    "print(temp)\n",
    "print(temp.sort_values())\n",
    "print(temp.sort_index())"
   ]
  },
  {
   "cell_type": "markdown",
   "id": "090bb22f-9571-4eca-8992-c3f7ddaeaaa6",
   "metadata": {},
   "source": [
    "# Pandas return a new modified object make changes in original object\n",
    "## Method chaining is very useful here\n",
    "## Here comes the logic of inplace where you are making chages in the original object"
   ]
  },
  {
   "cell_type": "code",
   "execution_count": 216,
   "id": "9f7d7eb3-c0c3-497d-8f96-40e6890dbca7",
   "metadata": {},
   "outputs": [
    {
     "name": "stdout",
     "output_type": "stream",
     "text": [
      "Sorted values of a : \n",
      " 7   -2\n",
      "6    0\n",
      "2    1\n",
      "4    2\n",
      "0    4\n",
      "3    4\n",
      "1    7\n",
      "5    8\n",
      "dtype: int64\n",
      "Original a : \n",
      " 0    4\n",
      "1    7\n",
      "2    1\n",
      "3    4\n",
      "4    2\n",
      "5    8\n",
      "6    0\n",
      "7   -2\n",
      "dtype: int64\n",
      "Using inplace : \n",
      " None\n",
      "Now a becomes : \n",
      " 7   -2\n",
      "6    0\n",
      "2    1\n",
      "4    2\n",
      "0    4\n",
      "3    4\n",
      "1    7\n",
      "5    8\n",
      "dtype: int64\n"
     ]
    }
   ],
   "source": [
    "a=pd.Series([4,7,1,4,2,8,0,-2])\n",
    "print(\"Sorted values of a : \\n\",a.sort_values())\n",
    "print(\"Original a : \\n\",a)\n",
    "# The original object not changed\n",
    "print(\"Using inplace : \\n\",a.sort_values(inplace=True))\n",
    "# Returns none\n",
    "print(\"Now a becomes : \\n\",a)"
   ]
  },
  {
   "cell_type": "code",
   "execution_count": 144,
   "id": "02f5bfa9-c997-4de7-9894-1adada8ff5bc",
   "metadata": {},
   "outputs": [
    {
     "name": "stdout",
     "output_type": "stream",
     "text": [
      "match_no\n",
      "175    72\n",
      "152    70\n",
      "105    35\n",
      "24     24\n",
      "172     7\n",
      "Name: runs, dtype: int64\n"
     ]
    }
   ],
   "source": [
    "# Ascending and Descending order\n",
    "print(temp.sort_values(ascending=False))"
   ]
  },
  {
   "cell_type": "markdown",
   "id": "0aa81784-f62e-42f4-a539-f4f4c8bbfbcf",
   "metadata": {},
   "source": [
    "# Useful Mathematical Methods in Series\n",
    "## Product\n",
    "## Sum\n",
    "## Mean\n",
    "## Median\n",
    "## Mode\n",
    "## Std\n",
    "## Var\n",
    "\n",
    "# \" DESCRIBE \""
   ]
  },
  {
   "cell_type": "code",
   "execution_count": 217,
   "id": "c795c99d-a182-44a6-bbb0-93de89eaa0ed",
   "metadata": {},
   "outputs": [
    {
     "name": "stdout",
     "output_type": "stream",
     "text": [
      "Size Function :  5\n",
      "Count Function : 4\n",
      "count    4.00\n",
      "mean     2.25\n",
      "std      1.50\n",
      "min      1.00\n",
      "25%      1.00\n",
      "50%      2.00\n",
      "75%      3.25\n",
      "max      4.00\n",
      "dtype: float64\n"
     ]
    }
   ],
   "source": [
    "# count\n",
    "# It gives total number of values in Series like the size function does but the\n",
    "# good thing is that it does not count missing values\n",
    "temp=pd.Series([1,3,4,np.nan,1],index=[1,2,3,4,5])\n",
    "print(\"Size Function : \",temp.size)\n",
    "print(f\"Count Function : {temp.count()}\")\n",
    "print(temp.describe())"
   ]
  },
  {
   "cell_type": "code",
   "execution_count": 163,
   "id": "f3676c0f-70bf-4850-83ea-1a0dce5c8db1",
   "metadata": {},
   "outputs": [
    {
     "name": "stdout",
     "output_type": "stream",
     "text": [
      "<class 'pandas.core.indexes.base.Index'>\n",
      "15\n"
     ]
    }
   ],
   "source": [
    "print(type(temp.index))\n",
    "print(sum(temp.index))"
   ]
  },
  {
   "cell_type": "markdown",
   "id": "6b6bf505-6a2e-4197-92d3-a28212f3e7eb",
   "metadata": {},
   "source": [
    "# Series Indexing\n",
    "# Note :- Negative indexing does not work properly in every case so avoid it"
   ]
  },
  {
   "cell_type": "code",
   "execution_count": 183,
   "id": "b7190453-606f-417f-bd3a-e748c6d587b1",
   "metadata": {},
   "outputs": [
    {
     "name": "stdout",
     "output_type": "stream",
     "text": [
      "75\n"
     ]
    },
    {
     "name": "stderr",
     "output_type": "stream",
     "text": [
      "C:\\Users\\MMT\\AppData\\Local\\Temp\\ipykernel_19160\\2070985904.py:1: FutureWarning: Series.__getitem__ treating keys as positions is deprecated. In a future version, integer keys will always be treated as labels (consistent with DataFrame behavior). To access a value by position, use `ser.iloc[pos]`\n",
      "  print(student[-1])\n"
     ]
    },
    {
     "ename": "KeyError",
     "evalue": "-1",
     "output_type": "error",
     "traceback": [
      "\u001b[1;31m---------------------------------------------------------------------------\u001b[0m",
      "\u001b[1;31mValueError\u001b[0m                                Traceback (most recent call last)",
      "File \u001b[1;32mC:\\ProgramData\\anaconda3\\Lib\\site-packages\\pandas\\core\\indexes\\range.py:413\u001b[0m, in \u001b[0;36mRangeIndex.get_loc\u001b[1;34m(self, key)\u001b[0m\n\u001b[0;32m    412\u001b[0m \u001b[38;5;28;01mtry\u001b[39;00m:\n\u001b[1;32m--> 413\u001b[0m     \u001b[38;5;28;01mreturn\u001b[39;00m \u001b[38;5;28mself\u001b[39m\u001b[38;5;241m.\u001b[39m_range\u001b[38;5;241m.\u001b[39mindex(new_key)\n\u001b[0;32m    414\u001b[0m \u001b[38;5;28;01mexcept\u001b[39;00m \u001b[38;5;167;01mValueError\u001b[39;00m \u001b[38;5;28;01mas\u001b[39;00m err:\n",
      "\u001b[1;31mValueError\u001b[0m: -1 is not in range",
      "\nThe above exception was the direct cause of the following exception:\n",
      "\u001b[1;31mKeyError\u001b[0m                                  Traceback (most recent call last)",
      "Cell \u001b[1;32mIn[183], line 3\u001b[0m\n\u001b[0;32m      1\u001b[0m \u001b[38;5;28mprint\u001b[39m(student[\u001b[38;5;241m-\u001b[39m\u001b[38;5;241m1\u001b[39m])\n\u001b[0;32m      2\u001b[0m temp\u001b[38;5;241m=\u001b[39mpd\u001b[38;5;241m.\u001b[39mSeries([\u001b[38;5;241m1\u001b[39m,\u001b[38;5;241m3\u001b[39m,\u001b[38;5;241m2\u001b[39m,\u001b[38;5;241m7\u001b[39m,\u001b[38;5;241m4\u001b[39m,\u001b[38;5;241m2\u001b[39m])\n\u001b[1;32m----> 3\u001b[0m \u001b[38;5;28mprint\u001b[39m(temp[\u001b[38;5;241m-\u001b[39m\u001b[38;5;241m1\u001b[39m])\n",
      "File \u001b[1;32mC:\\ProgramData\\anaconda3\\Lib\\site-packages\\pandas\\core\\series.py:1121\u001b[0m, in \u001b[0;36mSeries.__getitem__\u001b[1;34m(self, key)\u001b[0m\n\u001b[0;32m   1118\u001b[0m     \u001b[38;5;28;01mreturn\u001b[39;00m \u001b[38;5;28mself\u001b[39m\u001b[38;5;241m.\u001b[39m_values[key]\n\u001b[0;32m   1120\u001b[0m \u001b[38;5;28;01melif\u001b[39;00m key_is_scalar:\n\u001b[1;32m-> 1121\u001b[0m     \u001b[38;5;28;01mreturn\u001b[39;00m \u001b[38;5;28mself\u001b[39m\u001b[38;5;241m.\u001b[39m_get_value(key)\n\u001b[0;32m   1123\u001b[0m \u001b[38;5;66;03m# Convert generator to list before going through hashable part\u001b[39;00m\n\u001b[0;32m   1124\u001b[0m \u001b[38;5;66;03m# (We will iterate through the generator there to check for slices)\u001b[39;00m\n\u001b[0;32m   1125\u001b[0m \u001b[38;5;28;01mif\u001b[39;00m is_iterator(key):\n",
      "File \u001b[1;32mC:\\ProgramData\\anaconda3\\Lib\\site-packages\\pandas\\core\\series.py:1237\u001b[0m, in \u001b[0;36mSeries._get_value\u001b[1;34m(self, label, takeable)\u001b[0m\n\u001b[0;32m   1234\u001b[0m     \u001b[38;5;28;01mreturn\u001b[39;00m \u001b[38;5;28mself\u001b[39m\u001b[38;5;241m.\u001b[39m_values[label]\n\u001b[0;32m   1236\u001b[0m \u001b[38;5;66;03m# Similar to Index.get_value, but we do not fall back to positional\u001b[39;00m\n\u001b[1;32m-> 1237\u001b[0m loc \u001b[38;5;241m=\u001b[39m \u001b[38;5;28mself\u001b[39m\u001b[38;5;241m.\u001b[39mindex\u001b[38;5;241m.\u001b[39mget_loc(label)\n\u001b[0;32m   1239\u001b[0m \u001b[38;5;28;01mif\u001b[39;00m is_integer(loc):\n\u001b[0;32m   1240\u001b[0m     \u001b[38;5;28;01mreturn\u001b[39;00m \u001b[38;5;28mself\u001b[39m\u001b[38;5;241m.\u001b[39m_values[loc]\n",
      "File \u001b[1;32mC:\\ProgramData\\anaconda3\\Lib\\site-packages\\pandas\\core\\indexes\\range.py:415\u001b[0m, in \u001b[0;36mRangeIndex.get_loc\u001b[1;34m(self, key)\u001b[0m\n\u001b[0;32m    413\u001b[0m         \u001b[38;5;28;01mreturn\u001b[39;00m \u001b[38;5;28mself\u001b[39m\u001b[38;5;241m.\u001b[39m_range\u001b[38;5;241m.\u001b[39mindex(new_key)\n\u001b[0;32m    414\u001b[0m     \u001b[38;5;28;01mexcept\u001b[39;00m \u001b[38;5;167;01mValueError\u001b[39;00m \u001b[38;5;28;01mas\u001b[39;00m err:\n\u001b[1;32m--> 415\u001b[0m         \u001b[38;5;28;01mraise\u001b[39;00m \u001b[38;5;167;01mKeyError\u001b[39;00m(key) \u001b[38;5;28;01mfrom\u001b[39;00m \u001b[38;5;21;01merr\u001b[39;00m\n\u001b[0;32m    416\u001b[0m \u001b[38;5;28;01mif\u001b[39;00m \u001b[38;5;28misinstance\u001b[39m(key, Hashable):\n\u001b[0;32m    417\u001b[0m     \u001b[38;5;28;01mraise\u001b[39;00m \u001b[38;5;167;01mKeyError\u001b[39;00m(key)\n",
      "\u001b[1;31mKeyError\u001b[0m: -1"
     ]
    }
   ],
   "source": [
    "print(student[-1])\n",
    "temp=pd.Series([1,3,2,7,4,2])\n",
    "print(temp[-1])"
   ]
  },
  {
   "cell_type": "markdown",
   "id": "fce53e54-74da-40d5-a929-5e3dac452452",
   "metadata": {},
   "source": [
    "# Slicing"
   ]
  },
  {
   "cell_type": "code",
   "execution_count": 178,
   "id": "a9066212-9145-488e-9e58-74147144b7e3",
   "metadata": {},
   "outputs": [
    {
     "name": "stdout",
     "output_type": "stream",
     "text": [
      "0    1\n",
      "1    3\n",
      "2    2\n",
      "3    7\n",
      "4    4\n",
      "5    2\n",
      "dtype: int64\n",
      "1    3\n",
      "2    2\n",
      "dtype: int64\n",
      "2    2\n",
      "3    7\n",
      "4    4\n",
      "5    2\n",
      "dtype: int64\n"
     ]
    }
   ],
   "source": [
    "print(temp)\n",
    "print(temp[1:3])\n",
    "print(temp[-4:])"
   ]
  },
  {
   "cell_type": "markdown",
   "id": "68973b36-c78f-450e-a74e-f65a9b1bf017",
   "metadata": {},
   "source": [
    "# Editing Items in Series"
   ]
  },
  {
   "cell_type": "code",
   "execution_count": 229,
   "id": "5c0c00e5-a907-4211-b1a2-d14889d046f1",
   "metadata": {},
   "outputs": [
    {
     "name": "stdout",
     "output_type": "stream",
     "text": [
      "100.0\n",
      "100.0\n",
      "1      13.0\n",
      "2       7.0\n",
      "3    2005.0\n",
      "4       NaN\n",
      "5       1.0\n",
      "dtype: float64\n"
     ]
    }
   ],
   "source": [
    "#using Indexing\n",
    "print(temp[1])\n",
    "temp[1]=100\n",
    "print(temp[1])\n",
    "temp[0:3]=[13,7,2005]\n",
    "print(temp)"
   ]
  },
  {
   "cell_type": "code",
   "execution_count": 185,
   "id": "d6c9637c-1421-4ad9-8da9-e1445e369be7",
   "metadata": {},
   "outputs": [
    {
     "name": "stdout",
     "output_type": "stream",
     "text": [
      "0        1\n",
      "1      100\n",
      "2        2\n",
      "3        7\n",
      "4        4\n",
      "5        2\n",
      "100     97\n",
      "dtype: int64\n"
     ]
    }
   ],
   "source": [
    "# What if index does not exist inside the Series\n",
    "# A new element will be added to Series with given information\n",
    "temp[100]=97\n",
    "print(temp)"
   ]
  },
  {
   "cell_type": "code",
   "execution_count": 232,
   "id": "bbae58b0-2698-48f9-8a40-ce07edfe779c",
   "metadata": {},
   "outputs": [
    {
     "name": "stdout",
     "output_type": "stream",
     "text": [
      "1      13.0\n",
      "2       7.0\n",
      "3    2005.0\n",
      "4       NaN\n",
      "5       1.0\n",
      "dtype: float64\n"
     ]
    },
    {
     "ename": "ValueError",
     "evalue": "cannot set using a slice indexer with a different length than the value",
     "output_type": "error",
     "traceback": [
      "\u001b[1;31m---------------------------------------------------------------------------\u001b[0m",
      "\u001b[1;31mValueError\u001b[0m                                Traceback (most recent call last)",
      "Cell \u001b[1;32mIn[232], line 3\u001b[0m\n\u001b[0;32m      1\u001b[0m \u001b[38;5;66;03m# Slicing Method for not having index\u001b[39;00m\n\u001b[0;32m      2\u001b[0m \u001b[38;5;28mprint\u001b[39m(temp)\n\u001b[1;32m----> 3\u001b[0m temp[\u001b[38;5;241m5\u001b[39m:\u001b[38;5;241m7\u001b[39m]\u001b[38;5;241m=\u001b[39m[\u001b[38;5;241m10\u001b[39m,\u001b[38;5;241m80\u001b[39m]\n\u001b[0;32m      4\u001b[0m \u001b[38;5;28mprint\u001b[39m(temp)\n",
      "File \u001b[1;32mC:\\ProgramData\\anaconda3\\Lib\\site-packages\\pandas\\core\\series.py:1295\u001b[0m, in \u001b[0;36mSeries.__setitem__\u001b[1;34m(self, key, value)\u001b[0m\n\u001b[0;32m   1293\u001b[0m \u001b[38;5;28;01mif\u001b[39;00m \u001b[38;5;28misinstance\u001b[39m(key, \u001b[38;5;28mslice\u001b[39m):\n\u001b[0;32m   1294\u001b[0m     indexer \u001b[38;5;241m=\u001b[39m \u001b[38;5;28mself\u001b[39m\u001b[38;5;241m.\u001b[39mindex\u001b[38;5;241m.\u001b[39m_convert_slice_indexer(key, kind\u001b[38;5;241m=\u001b[39m\u001b[38;5;124m\"\u001b[39m\u001b[38;5;124mgetitem\u001b[39m\u001b[38;5;124m\"\u001b[39m)\n\u001b[1;32m-> 1295\u001b[0m     \u001b[38;5;28;01mreturn\u001b[39;00m \u001b[38;5;28mself\u001b[39m\u001b[38;5;241m.\u001b[39m_set_values(indexer, value, warn\u001b[38;5;241m=\u001b[39mwarn)\n\u001b[0;32m   1297\u001b[0m \u001b[38;5;28;01mtry\u001b[39;00m:\n\u001b[0;32m   1298\u001b[0m     \u001b[38;5;28mself\u001b[39m\u001b[38;5;241m.\u001b[39m_set_with_engine(key, value, warn\u001b[38;5;241m=\u001b[39mwarn)\n",
      "File \u001b[1;32mC:\\ProgramData\\anaconda3\\Lib\\site-packages\\pandas\\core\\series.py:1419\u001b[0m, in \u001b[0;36mSeries._set_values\u001b[1;34m(self, key, value, warn)\u001b[0m\n\u001b[0;32m   1416\u001b[0m \u001b[38;5;28;01mif\u001b[39;00m \u001b[38;5;28misinstance\u001b[39m(key, (Index, Series)):\n\u001b[0;32m   1417\u001b[0m     key \u001b[38;5;241m=\u001b[39m key\u001b[38;5;241m.\u001b[39m_values\n\u001b[1;32m-> 1419\u001b[0m \u001b[38;5;28mself\u001b[39m\u001b[38;5;241m.\u001b[39m_mgr \u001b[38;5;241m=\u001b[39m \u001b[38;5;28mself\u001b[39m\u001b[38;5;241m.\u001b[39m_mgr\u001b[38;5;241m.\u001b[39msetitem(indexer\u001b[38;5;241m=\u001b[39mkey, value\u001b[38;5;241m=\u001b[39mvalue, warn\u001b[38;5;241m=\u001b[39mwarn)\n\u001b[0;32m   1420\u001b[0m \u001b[38;5;28mself\u001b[39m\u001b[38;5;241m.\u001b[39m_maybe_update_cacher()\n",
      "File \u001b[1;32mC:\\ProgramData\\anaconda3\\Lib\\site-packages\\pandas\\core\\internals\\managers.py:415\u001b[0m, in \u001b[0;36mBaseBlockManager.setitem\u001b[1;34m(self, indexer, value, warn)\u001b[0m\n\u001b[0;32m    411\u001b[0m     \u001b[38;5;66;03m# No need to split if we either set all columns or on a single block\u001b[39;00m\n\u001b[0;32m    412\u001b[0m     \u001b[38;5;66;03m# manager\u001b[39;00m\n\u001b[0;32m    413\u001b[0m     \u001b[38;5;28mself\u001b[39m \u001b[38;5;241m=\u001b[39m \u001b[38;5;28mself\u001b[39m\u001b[38;5;241m.\u001b[39mcopy()\n\u001b[1;32m--> 415\u001b[0m \u001b[38;5;28;01mreturn\u001b[39;00m \u001b[38;5;28mself\u001b[39m\u001b[38;5;241m.\u001b[39mapply(\u001b[38;5;124m\"\u001b[39m\u001b[38;5;124msetitem\u001b[39m\u001b[38;5;124m\"\u001b[39m, indexer\u001b[38;5;241m=\u001b[39mindexer, value\u001b[38;5;241m=\u001b[39mvalue)\n",
      "File \u001b[1;32mC:\\ProgramData\\anaconda3\\Lib\\site-packages\\pandas\\core\\internals\\managers.py:363\u001b[0m, in \u001b[0;36mBaseBlockManager.apply\u001b[1;34m(self, f, align_keys, **kwargs)\u001b[0m\n\u001b[0;32m    361\u001b[0m         applied \u001b[38;5;241m=\u001b[39m b\u001b[38;5;241m.\u001b[39mapply(f, \u001b[38;5;241m*\u001b[39m\u001b[38;5;241m*\u001b[39mkwargs)\n\u001b[0;32m    362\u001b[0m     \u001b[38;5;28;01melse\u001b[39;00m:\n\u001b[1;32m--> 363\u001b[0m         applied \u001b[38;5;241m=\u001b[39m \u001b[38;5;28mgetattr\u001b[39m(b, f)(\u001b[38;5;241m*\u001b[39m\u001b[38;5;241m*\u001b[39mkwargs)\n\u001b[0;32m    364\u001b[0m     result_blocks \u001b[38;5;241m=\u001b[39m extend_blocks(applied, result_blocks)\n\u001b[0;32m    366\u001b[0m out \u001b[38;5;241m=\u001b[39m \u001b[38;5;28mtype\u001b[39m(\u001b[38;5;28mself\u001b[39m)\u001b[38;5;241m.\u001b[39mfrom_blocks(result_blocks, \u001b[38;5;28mself\u001b[39m\u001b[38;5;241m.\u001b[39maxes)\n",
      "File \u001b[1;32mC:\\ProgramData\\anaconda3\\Lib\\site-packages\\pandas\\core\\internals\\blocks.py:1403\u001b[0m, in \u001b[0;36mBlock.setitem\u001b[1;34m(self, indexer, value, using_cow)\u001b[0m\n\u001b[0;32m   1400\u001b[0m     values \u001b[38;5;241m=\u001b[39m values\u001b[38;5;241m.\u001b[39mT\n\u001b[0;32m   1402\u001b[0m \u001b[38;5;66;03m# length checking\u001b[39;00m\n\u001b[1;32m-> 1403\u001b[0m check_setitem_lengths(indexer, value, values)\n\u001b[0;32m   1405\u001b[0m \u001b[38;5;28;01mif\u001b[39;00m \u001b[38;5;28mself\u001b[39m\u001b[38;5;241m.\u001b[39mdtype \u001b[38;5;241m!=\u001b[39m _dtype_obj:\n\u001b[0;32m   1406\u001b[0m     \u001b[38;5;66;03m# GH48933: extract_array would convert a pd.Series value to np.ndarray\u001b[39;00m\n\u001b[0;32m   1407\u001b[0m     value \u001b[38;5;241m=\u001b[39m extract_array(value, extract_numpy\u001b[38;5;241m=\u001b[39m\u001b[38;5;28;01mTrue\u001b[39;00m)\n",
      "File \u001b[1;32mC:\\ProgramData\\anaconda3\\Lib\\site-packages\\pandas\\core\\indexers\\utils.py:177\u001b[0m, in \u001b[0;36mcheck_setitem_lengths\u001b[1;34m(indexer, value, values)\u001b[0m\n\u001b[0;32m    174\u001b[0m \u001b[38;5;28;01mif\u001b[39;00m is_list_like(value):\n\u001b[0;32m    175\u001b[0m     \u001b[38;5;28;01mif\u001b[39;00m \u001b[38;5;28mlen\u001b[39m(value) \u001b[38;5;241m!=\u001b[39m length_of_indexer(indexer, values) \u001b[38;5;129;01mand\u001b[39;00m values\u001b[38;5;241m.\u001b[39mndim \u001b[38;5;241m==\u001b[39m \u001b[38;5;241m1\u001b[39m:\n\u001b[0;32m    176\u001b[0m         \u001b[38;5;66;03m# In case of two dimensional value is used row-wise and broadcasted\u001b[39;00m\n\u001b[1;32m--> 177\u001b[0m         \u001b[38;5;28;01mraise\u001b[39;00m \u001b[38;5;167;01mValueError\u001b[39;00m(\n\u001b[0;32m    178\u001b[0m             \u001b[38;5;124m\"\u001b[39m\u001b[38;5;124mcannot set using a slice indexer with a \u001b[39m\u001b[38;5;124m\"\u001b[39m\n\u001b[0;32m    179\u001b[0m             \u001b[38;5;124m\"\u001b[39m\u001b[38;5;124mdifferent length than the value\u001b[39m\u001b[38;5;124m\"\u001b[39m\n\u001b[0;32m    180\u001b[0m         )\n\u001b[0;32m    181\u001b[0m     \u001b[38;5;28;01mif\u001b[39;00m \u001b[38;5;129;01mnot\u001b[39;00m \u001b[38;5;28mlen\u001b[39m(value):\n\u001b[0;32m    182\u001b[0m         no_op \u001b[38;5;241m=\u001b[39m \u001b[38;5;28;01mTrue\u001b[39;00m\n",
      "\u001b[1;31mValueError\u001b[0m: cannot set using a slice indexer with a different length than the value"
     ]
    }
   ],
   "source": [
    "# Slicing Method for not having index\n",
    "print(temp)\n",
    "temp[5:7]=[10,80]\n",
    "print(temp)\n",
    "# it cannot get the slice and returning the error"
   ]
  },
  {
   "cell_type": "code",
   "execution_count": 239,
   "id": "ddd0ac61-5e80-409c-a7f9-784d588b6414",
   "metadata": {},
   "outputs": [
    {
     "name": "stdout",
     "output_type": "stream",
     "text": [
      "1    0.0\n",
      "2    7.0\n",
      "3    0.0\n",
      "4    NaN\n",
      "5    0.0\n",
      "dtype: float64\n",
      "1    0.0\n",
      "2    7.0\n",
      "3    0.0\n",
      "4    NaN\n",
      "5    0.0\n",
      "dtype: float64\n",
      "1    100.0\n",
      "2      7.0\n",
      "5      0.0\n",
      "dtype: float64\n",
      "1    100.0\n",
      "2    100.0\n",
      "3      0.0\n",
      "4      NaN\n",
      "5    100.0\n",
      "dtype: float64\n"
     ]
    }
   ],
   "source": [
    "# fancy indexing\n",
    "# Accessing multiple values at once using a list (or array) of indexes.\n",
    "print(temp)\n",
    "new=temp[[1,2,5]]\n",
    "new[1]=100\n",
    "print(temp)\n",
    "print(new)\n",
    "temp[[1,2,5]]=[100,100,100]\n",
    "print(temp)"
   ]
  },
  {
   "cell_type": "code",
   "execution_count": 250,
   "id": "259c8968-6880-465d-a1c0-e5ba2bedc220",
   "metadata": {},
   "outputs": [
    {
     "name": "stdout",
     "output_type": "stream",
     "text": [
      "name    Sajjad\n",
      "Age         13\n",
      "dtype: object\n",
      "name    Sajjad\n",
      "Age         20\n",
      "dtype: object\n"
     ]
    }
   ],
   "source": [
    "# using index label\n",
    "new=pd.Series([\"Sajjad\",13],index=[\"name\",\"Age\"])\n",
    "print(new)\n",
    "new[\"Age\"]=20\n",
    "print(new)"
   ]
  },
  {
   "cell_type": "markdown",
   "id": "5a276bdf-5cd0-4c0f-89c3-0a1da8f0210a",
   "metadata": {},
   "source": [
    "# Pandas SERIES using Python core functionalities"
   ]
  },
  {
   "cell_type": "code",
   "execution_count": 256,
   "id": "bccf7c8d-9ddc-4e6d-8e25-2ef27b164ed5",
   "metadata": {},
   "outputs": [
    {
     "name": "stdout",
     "output_type": "stream",
     "text": [
      "2\n",
      "<class 'pandas.core.series.Series'>\n",
      "['Age', 'T', '_AXIS_LEN', '_AXIS_ORDERS', '_AXIS_TO_AXIS_NUMBER', '_HANDLED_TYPES', '__abs__', '__add__', '__and__', '__annotations__', '__array__', '__array_priority__', '__array_ufunc__', '__bool__', '__class__', '__column_consortium_standard__', '__contains__', '__copy__', '__deepcopy__', '__delattr__', '__delitem__', '__dict__', '__dir__', '__divmod__', '__doc__', '__eq__', '__finalize__', '__float__', '__floordiv__', '__format__', '__ge__', '__getattr__', '__getattribute__', '__getitem__', '__getstate__', '__gt__', '__hash__', '__iadd__', '__iand__', '__ifloordiv__', '__imod__', '__imul__', '__init__', '__init_subclass__', '__int__', '__invert__', '__ior__', '__ipow__', '__isub__', '__iter__', '__itruediv__', '__ixor__', '__le__', '__len__', '__lt__', '__matmul__', '__mod__', '__module__', '__mul__', '__ne__', '__neg__', '__new__', '__nonzero__', '__or__', '__pandas_priority__', '__pos__', '__pow__', '__radd__', '__rand__', '__rdivmod__', '__reduce__', '__reduce_ex__', '__repr__', '__rfloordiv__', '__rmatmul__', '__rmod__', '__rmul__', '__ror__', '__round__', '__rpow__', '__rsub__', '__rtruediv__', '__rxor__', '__setattr__', '__setitem__', '__setstate__', '__sizeof__', '__str__', '__sub__', '__subclasshook__', '__truediv__', '__weakref__', '__xor__', '_accessors', '_accum_func', '_agg_examples_doc', '_agg_see_also_doc', '_align_for_op', '_align_frame', '_align_series', '_append', '_arith_method', '_as_manager', '_attrs', '_binop', '_can_hold_na', '_check_inplace_and_allows_duplicate_labels', '_check_is_chained_assignment_possible', '_check_label_or_level_ambiguity', '_check_setitem_copy', '_clear_item_cache', '_clip_with_one_bound', '_clip_with_scalar', '_cmp_method', '_consolidate', '_consolidate_inplace', '_construct_axes_dict', '_construct_result', '_constructor', '_constructor_expanddim', '_constructor_expanddim_from_mgr', '_constructor_from_mgr', '_data', '_deprecate_downcast', '_dir_additions', '_dir_deletions', '_drop_axis', '_drop_labels_or_levels', '_duplicated', '_find_valid_index', '_flags', '_flex_method', '_from_mgr', '_get_axis', '_get_axis_name', '_get_axis_number', '_get_axis_resolvers', '_get_block_manager_axis', '_get_bool_data', '_get_cacher', '_get_cleaned_column_resolvers', '_get_index_resolvers', '_get_label_or_level_values', '_get_numeric_data', '_get_rows_with_mask', '_get_value', '_get_values_tuple', '_get_with', '_getitem_slice', '_gotitem', '_hidden_attrs', '_indexed_same', '_info_axis', '_info_axis_name', '_info_axis_number', '_init_dict', '_init_mgr', '_inplace_method', '_internal_names', '_internal_names_set', '_is_cached', '_is_copy', '_is_label_or_level_reference', '_is_label_reference', '_is_level_reference', '_is_mixed_type', '_is_view', '_is_view_after_cow_rules', '_item_cache', '_ixs', '_logical_func', '_logical_method', '_map_values', '_maybe_update_cacher', '_memory_usage', '_metadata', '_mgr', '_min_count_stat_function', '_name', '_needs_reindex_multi', '_pad_or_backfill', '_protect_consolidate', '_reduce', '_references', '_reindex_axes', '_reindex_indexer', '_reindex_multi', '_reindex_with_indexers', '_rename', '_replace_single', '_repr_data_resource_', '_repr_latex_', '_reset_cache', '_reset_cacher', '_set_as_cached', '_set_axis', '_set_axis_name', '_set_axis_nocheck', '_set_is_copy', '_set_labels', '_set_name', '_set_value', '_set_values', '_set_with', '_set_with_engine', '_shift_with_freq', '_slice', '_stat_function', '_stat_function_ddof', '_take_with_is_copy', '_to_latex_via_styler', '_typ', '_update_inplace', '_validate_dtype', '_values', '_where', 'abs', 'add', 'add_prefix', 'add_suffix', 'agg', 'aggregate', 'align', 'all', 'any', 'apply', 'argmax', 'argmin', 'argsort', 'array', 'asfreq', 'asof', 'astype', 'at', 'at_time', 'attrs', 'autocorr', 'axes', 'backfill', 'between', 'between_time', 'bfill', 'bool', 'case_when', 'clip', 'combine', 'combine_first', 'compare', 'convert_dtypes', 'copy', 'corr', 'count', 'cov', 'cummax', 'cummin', 'cumprod', 'cumsum', 'describe', 'diff', 'div', 'divide', 'divmod', 'dot', 'drop', 'drop_duplicates', 'droplevel', 'dropna', 'dtype', 'dtypes', 'duplicated', 'empty', 'eq', 'equals', 'ewm', 'expanding', 'explode', 'factorize', 'ffill', 'fillna', 'filter', 'first', 'first_valid_index', 'flags', 'floordiv', 'ge', 'get', 'groupby', 'gt', 'hasnans', 'head', 'hist', 'iat', 'idxmax', 'idxmin', 'iloc', 'index', 'infer_objects', 'info', 'interpolate', 'is_monotonic_decreasing', 'is_monotonic_increasing', 'is_unique', 'isin', 'isna', 'isnull', 'item', 'items', 'keys', 'kurt', 'kurtosis', 'last', 'last_valid_index', 'le', 'list', 'loc', 'lt', 'map', 'mask', 'max', 'mean', 'median', 'memory_usage', 'min', 'mod', 'mode', 'mul', 'multiply', 'name', 'nbytes', 'ndim', 'ne', 'nlargest', 'notna', 'notnull', 'nsmallest', 'nunique', 'pad', 'pct_change', 'pipe', 'plot', 'pop', 'pow', 'prod', 'product', 'quantile', 'radd', 'rank', 'ravel', 'rdiv', 'rdivmod', 'reindex', 'reindex_like', 'rename', 'rename_axis', 'reorder_levels', 'repeat', 'replace', 'resample', 'reset_index', 'rfloordiv', 'rmod', 'rmul', 'rolling', 'round', 'rpow', 'rsub', 'rtruediv', 'sample', 'searchsorted', 'sem', 'set_axis', 'set_flags', 'shape', 'shift', 'size', 'skew', 'sort_index', 'sort_values', 'squeeze', 'std', 'str', 'struct', 'sub', 'subtract', 'sum', 'swapaxes', 'swaplevel', 'tail', 'take', 'to_clipboard', 'to_csv', 'to_dict', 'to_excel', 'to_frame', 'to_hdf', 'to_json', 'to_latex', 'to_list', 'to_markdown', 'to_numpy', 'to_period', 'to_pickle', 'to_sql', 'to_string', 'to_timestamp', 'to_xarray', 'transform', 'transpose', 'truediv', 'truncate', 'tz_convert', 'tz_localize', 'unique', 'unstack', 'update', 'value_counts', 'values', 'var', 'view', 'where', 'xs']\n",
      "Nineteenth\n",
      "Sajjad\n"
     ]
    }
   ],
   "source": [
    "# len/type/dir/min/max/sorted\n",
    "print(len(new))\n",
    "print(type(new))\n",
    "print(dir(new))\n",
    "new[\"Age\"]=\"Nineteenth\"\n",
    "print(min(new))\n",
    "print(max(new))"
   ]
  },
  {
   "cell_type": "code",
   "execution_count": 277,
   "id": "59de14ca-e547-44be-afd0-ff37600d7f06",
   "metadata": {},
   "outputs": [
    {
     "name": "stdout",
     "output_type": "stream",
     "text": [
      "<class 'pandas.core.series.Series'>\n",
      "Index(['name', 'Age'], dtype='object')\n",
      "['name', 'Age']\n",
      "<class 'list'>\n"
     ]
    }
   ],
   "source": [
    "# Type Conversion\n",
    "print(type(new))\n",
    "print(new.keys())\n",
    "a=list(new.index)\n",
    "print(a)\n",
    "print(type(a))"
   ]
  },
  {
   "cell_type": "code",
   "execution_count": 269,
   "id": "059c0d83-74bd-430b-9baf-03b3f8856e18",
   "metadata": {},
   "outputs": [
    {
     "name": "stdout",
     "output_type": "stream",
     "text": [
      "{'name': 'Sajjad', 'Age': 'Nineteenth'}\n"
     ]
    }
   ],
   "source": [
    "a=dict(new)\n",
    "print(a)"
   ]
  },
  {
   "cell_type": "code",
   "execution_count": 272,
   "id": "4daaa57c-1696-406c-9316-99d2ded7e11e",
   "metadata": {},
   "outputs": [
    {
     "data": {
      "text/plain": [
       "True"
      ]
     },
     "execution_count": 272,
     "metadata": {},
     "output_type": "execute_result"
    }
   ],
   "source": [
    "# membership operator\n",
    "\"Sajjad\" in new\n",
    "\"Sajjad\" in new.values"
   ]
  },
  {
   "cell_type": "markdown",
   "id": "f56c5adf-40f5-47df-9de6-8fc7018660fb",
   "metadata": {},
   "source": [
    "# Membership operator works on Indexes\n",
    "# For loop works on Values\n",
    "# By default\n",
    "# We have to modify it for desired output"
   ]
  },
  {
   "cell_type": "code",
   "execution_count": 276,
   "id": "b576ef4a-de9e-4464-9b13-5875c98b86c9",
   "metadata": {},
   "outputs": [
    {
     "name": "stdout",
     "output_type": "stream",
     "text": [
      "Sajjad\n",
      "Nineteenth\n",
      "\n",
      "Now loop for indexes of Series!\n",
      "name\n",
      "Age\n"
     ]
    }
   ],
   "source": [
    "for i in new:\n",
    "    print(i)\n",
    "print()\n",
    "print(\"Now loop for indexes of Series!\")\n",
    "for i in new.index:\n",
    "    print(i)"
   ]
  },
  {
   "cell_type": "code",
   "execution_count": 287,
   "id": "6fcfa228-4dc1-4114-b0a4-6e4de3d9470d",
   "metadata": {},
   "outputs": [
    {
     "name": "stdout",
     "output_type": "stream",
     "text": [
      "Chemistry    80\n",
      "Physics      90\n",
      "Maths        99\n",
      "English      75\n",
      "dtype: int64\n",
      "It will tell the difference between your value and the given number :-\n",
      "Chemistry    20\n",
      "Physics      10\n",
      "Maths         1\n",
      "English      25\n",
      "dtype: int64\n",
      "It is working through Broadcasting!\n"
     ]
    }
   ],
   "source": [
    "# Arithmatic operators\n",
    "print(marks)\n",
    "print(\"It will tell the difference between your value and the given number :-\")\n",
    "print(100-marks)\n",
    "print(\"It is working through Broadcasting!\")"
   ]
  },
  {
   "cell_type": "code",
   "execution_count": 294,
   "id": "00b10f89-ec2a-4f1f-af21-e5f7d86a9097",
   "metadata": {},
   "outputs": [
    {
     "data": {
      "text/plain": [
       "Chemistry    False\n",
       "Physics       True\n",
       "Maths         True\n",
       "English      False\n",
       "dtype: bool"
      ]
     },
     "execution_count": 294,
     "metadata": {},
     "output_type": "execute_result"
    }
   ],
   "source": [
    "# Relational Operators\n",
    "marks>=85\n",
    "#It is not modifying the original Series"
   ]
  },
  {
   "cell_type": "code",
   "execution_count": 299,
   "id": "a10542be-526f-436e-8d1e-16099ff707c0",
   "metadata": {},
   "outputs": [
    {
     "data": {
      "text/plain": [
       "Physics    90\n",
       "Maths      99\n",
       "dtype: int64"
      ]
     },
     "execution_count": 299,
     "metadata": {},
     "output_type": "execute_result"
    }
   ],
   "source": [
    "# using the boolean indexing for Series\n",
    "marks[marks>=85]"
   ]
  },
  {
   "cell_type": "markdown",
   "id": "bc31cce8-0d5d-4449-8bf4-60bb11c13a66",
   "metadata": {},
   "source": [
    "# Plotting Graphs on Series"
   ]
  },
  {
   "cell_type": "code",
   "execution_count": 309,
   "id": "1571dc0a-6948-4035-84dd-262fc2f54a0a",
   "metadata": {},
   "outputs": [
    {
     "data": {
      "text/plain": [
       "<Axes: >"
      ]
     },
     "execution_count": 309,
     "metadata": {},
     "output_type": "execute_result"
    },
    {
     "data": {
      "image/png": "[encoded data removed]",
      "text/plain": [
       "<Figure size 640x480 with 1 Axes>"
      ]
     },
     "metadata": {},
     "output_type": "display_data"
    }
   ],
   "source": [
    "new=pd.Series([2,5,1,6,2,5,1,8,9,4,0,-1,-9,10])\n",
    "new.plot()\n",
    "new=pd.Series(list(np.random.randint(0,100,size=200)))\n",
    "new.plot()"
   ]
  },
  {
   "cell_type": "code",
   "execution_count": 310,
   "id": "ed6fd1ce-74d5-4735-9ed0-8b412c171f33",
   "metadata": {},
   "outputs": [
    {
     "data": {
      "text/plain": [
       "<Axes: >"
      ]
     },
     "execution_count": 310,
     "metadata": {},
     "output_type": "execute_result"
    },
    {
     "data": {
      "image/png": "[encoded data removed]",
      "text/plain": [
       "<Figure size 640x480 with 1 Axes>"
      ]
     },
     "metadata": {},
     "output_type": "display_data"
    }
   ],
   "source": [
    "data_set.plot()"
   ]
  },
  {
   "cell_type": "code",
   "execution_count": 315,
   "id": "dc6ebc2f-9bbf-4e33-96c8-761cd7a71fcf",
   "metadata": {},
   "outputs": [
    {
     "data": {
      "text/plain": [
       "<Axes: >"
      ]
     },
     "execution_count": 315,
     "metadata": {},
     "output_type": "execute_result"
    },
    {
     "data": {
      "image/png": "[encoded data removed]",
      "text/plain": [
       "<Figure size 640x480 with 1 Axes>"
      ]
     },
     "metadata": {},
     "output_type": "display_data"
    }
   ],
   "source": [
    "data_set.sort_values().head(20).plot(kind=\"bar\")"
   ]
  },
  {
   "cell_type": "markdown",
   "id": "6dfcb02c-e393-48e0-93a4-c9f08070f8e7",
   "metadata": {},
   "source": [
    "# Some most important Series methods in Pandas\n",
    "# Must knowing for easier and quicker work"
   ]
  },
  {
   "cell_type": "code",
   "execution_count": 321,
   "id": "fa92dd9f-3ff5-4394-a770-c20bf2409e01",
   "metadata": {},
   "outputs": [
    {
     "name": "stdout",
     "output_type": "stream",
     "text": [
      "3084\n",
      "894\n"
     ]
    }
   ],
   "source": [
    "# astype\n",
    "import sys\n",
    "print(sys.getsizeof(data_set))\n",
    "print(sys.getsizeof(data_set.astype(\"int16\")))"
   ]
  },
  {
   "cell_type": "code",
   "execution_count": 323,
   "id": "e48c830b-7851-4f80-9c60-1866700f11c7",
   "metadata": {},
   "outputs": [
    {
     "name": "stdout",
     "output_type": "stream",
     "text": [
      "0      100\n",
      "1      100\n",
      "2      100\n",
      "3      100\n",
      "4      100\n",
      "      ... \n",
      "360    200\n",
      "361    200\n",
      "362    155\n",
      "363    144\n",
      "364    172\n",
      "Name: Subscribers gained, Length: 365, dtype: int64\n"
     ]
    }
   ],
   "source": [
    "# clip\n",
    "print(data_set.clip(100,200))"
   ]
  },
  {
   "cell_type": "code",
   "execution_count": 328,
   "id": "c030b7d9-c5b7-4c41-aacf-af9b9c8a77ec",
   "metadata": {},
   "outputs": [
    {
     "name": "stdout",
     "output_type": "stream",
     "text": [
      "0    1\n",
      "2    2\n",
      "3    3\n",
      "5    5\n",
      "8    8\n",
      "dtype: int64\n"
     ]
    }
   ],
   "source": [
    "# drop duplicates\n",
    "# it works on values not on index\n",
    "new=pd.Series([1,1,2,3,2,5,3,5,8,1])\n",
    "print(new.drop_duplicates())"
   ]
  },
  {
   "cell_type": "code",
   "execution_count": 331,
   "id": "b4de2413-d60b-4d88-b125-4d24af0775e3",
   "metadata": {},
   "outputs": [
    {
     "name": "stdout",
     "output_type": "stream",
     "text": [
      "0    False\n",
      "1    False\n",
      "2     True\n",
      "3    False\n",
      "4     True\n",
      "5    False\n",
      "dtype: bool\n",
      "2\n"
     ]
    }
   ],
   "source": [
    "# Dealing with null or missing values\n",
    "new=pd.Series([1,4,np.nan,6,np.nan,9])\n",
    "print(new.isnull())\n",
    "print(new.isnull().sum())"
   ]
  },
  {
   "cell_type": "code",
   "execution_count": 333,
   "id": "3ed8f9d6-7b29-4738-824a-49194219cdc0",
   "metadata": {},
   "outputs": [
    {
     "name": "stdout",
     "output_type": "stream",
     "text": [
      "0    1.0\n",
      "1    4.0\n",
      "3    6.0\n",
      "5    9.0\n",
      "dtype: float64\n"
     ]
    }
   ],
   "source": [
    "# Filtering missing values means to drop them\n",
    "# .dropna\n",
    "print(new.dropna())"
   ]
  },
  {
   "cell_type": "code",
   "execution_count": 338,
   "id": "1fa8134f-8345-4363-af15-b617dbec9640",
   "metadata": {},
   "outputs": [
    {
     "name": "stdout",
     "output_type": "stream",
     "text": [
      "0    1.0\n",
      "1    4.0\n",
      "2    5.0\n",
      "3    6.0\n",
      "4    5.0\n",
      "5    9.0\n",
      "dtype: float64\n"
     ]
    }
   ],
   "source": [
    "# Using missing values\n",
    "# .fillna\n",
    "print(new.fillna(new.mean()))"
   ]
  },
  {
   "cell_type": "code",
   "execution_count": 346,
   "id": "666c5d85-a107-434b-a695-93968bf4da60",
   "metadata": {},
   "outputs": [
    {
     "name": "stdout",
     "output_type": "stream",
     "text": [
      "0       48\n",
      "1       57\n",
      "2       40\n",
      "3       43\n",
      "4       44\n",
      "      ... \n",
      "360    231\n",
      "361    226\n",
      "362    155\n",
      "363    144\n",
      "364    172\n",
      "Name: Subscribers gained, Length: 365, dtype: int64\n",
      "4       44\n",
      "8       44\n",
      "15      44\n",
      "360    231\n",
      "Name: Subscribers gained, dtype: int64\n",
      "Using isin function:-\n",
      "4       44\n",
      "8       44\n",
      "15      44\n",
      "360    231\n",
      "Name: Subscribers gained, dtype: int64\n"
     ]
    }
   ],
   "source": [
    "# isin\n",
    "print(data_set)\n",
    "print(data_set[(data_set==44)|(data_set==231)])\n",
    "# what if we have many more conditions\n",
    "print(\"Using isin function:-\")\n",
    "print(data_set[data_set.isin([44,231])])"
   ]
  },
  {
   "cell_type": "code",
   "execution_count": 356,
   "id": "10f3c269-6e38-4fc6-88c7-8ef271119db5",
   "metadata": {},
   "outputs": [
    {
     "name": "stdout",
     "output_type": "stream",
     "text": [
      "movie\n",
      "Uri: The Surgical Strike                  VICKY\n",
      "Battalion 609                             VICKY\n",
      "The Accidental Prime Minister (film)     ANUPAM\n",
      "Why Cheat India                          EMRAAN\n",
      "Evening Shadows                            MONA\n",
      "                                         ...   \n",
      "Hum Tumhare Hain Sanam                     SHAH\n",
      "Aankhen (2002 film)                     AMITABH\n",
      "Saathiya (film)                           VIVEK\n",
      "Company (film)                             AJAY\n",
      "Awara Paagal Deewana                     AKSHAY\n",
      "Name: lead, Length: 1500, dtype: object\n"
     ]
    }
   ],
   "source": [
    "# apply\n",
    "# applying custom logic on Series\n",
    "movies=pd.read_csv(r\"C:\\Users\\MMT\\Pictures\\Test\\Test\\assets\\bollywood.csv\",index_col=\"movie\").squeeze()\n",
    "print(movies.apply(lambda x:x.split()[0].upper()))"
   ]
  },
  {
   "cell_type": "code",
   "execution_count": 358,
   "id": "b503b825-c6b8-4700-8ef8-ee7831c1782a",
   "metadata": {},
   "outputs": [
    {
     "name": "stdout",
     "output_type": "stream",
     "text": [
      "0       Bad Day\n",
      "1       Bad Day\n",
      "2       Bad Day\n",
      "3       Bad Day\n",
      "4       Bad Day\n",
      "         ...   \n",
      "360    Good Day\n",
      "361    Good Day\n",
      "362    Good Day\n",
      "363    Good Day\n",
      "364    Good Day\n",
      "Name: Subscribers gained, Length: 365, dtype: object\n"
     ]
    }
   ],
   "source": [
    "print(data_set.apply(lambda x:\"Good Day\" if x>data_set.mean() else \"Bad Day\"))"
   ]
  },
  {
   "cell_type": "code",
   "execution_count": 363,
   "id": "2d4711c7-9e20-474d-a101-500503201fcd",
   "metadata": {},
   "outputs": [
    {
     "name": "stdout",
     "output_type": "stream",
     "text": [
      "97\n",
      "0\n",
      "\n",
      "Using Copy to solve the problem:-\n",
      "Before Modification:  100\n",
      "After Modification:  100\n"
     ]
    }
   ],
   "source": [
    "# copy\n",
    "# head and view does not give copy instead they give a copy of data\n",
    "new=kohli_runs.head(5)\n",
    "kohli_runs[2]=97\n",
    "print(kohli_runs[2])\n",
    "new[2]=0\n",
    "print(kohli_runs[2])\n",
    "# so use a copy\n",
    "kohli_runs[2]=100\n",
    "print(\"\\nUsing Copy to solve the problem:-\")\n",
    "print(\"Before Modification: \",kohli_runs[2])\n",
    "Temp=kohli_runs.head(5).copy()\n",
    "Temp[2]=0\n",
    "print(\"After Modification: \",kohli_runs[2])"
   ]
  },
  {
   "cell_type": "code",
   "execution_count": null,
   "id": "e3a76218-f7a7-41fb-aa6e-d334acde8dcc",
   "metadata": {},
   "outputs": [],
   "source": []
  }
 ],
 "metadata": {
  "kernelspec": {
   "display_name": "Python 3 (ipykernel)",
   "language": "python",
   "name": "python3"
  },
  "language_info": {
   "codemirror_mode": {
    "name": "ipython",
    "version": 3
   },
   "file_extension": ".py",
   "mimetype": "text/x-python",
   "name": "python",
   "nbconvert_exporter": "python",
   "pygments_lexer": "ipython3",
   "version": "3.12.7"
  }
 },
 "nbformat": 4,
 "nbformat_minor": 5
}
